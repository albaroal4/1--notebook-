{
 "cells": [
  {
   "cell_type": "markdown",
   "id": "a8886018-4a04-474d-9aa7-da7ce814314c",
   "metadata": {},
   "source": [
    "# Data Science Tools and Ecosystem "
   ]
  },
  {
   "cell_type": "markdown",
   "id": "bc83261a-93e7-4b70-9d27-0cc43b640eb0",
   "metadata": {},
   "source": [
    "In this notebook Data Science Tools and Ecosystem are summarized\n"
   ]
  },
  {
   "cell_type": "markdown",
   "id": "ddda3b50-1723-479c-a631-0200e829f729",
   "metadata": {},
   "source": [
    "**Objectives**\n",
    "- List popular languages for Data Science  \n",
    "- Identify commonly used libraries by Data Scientists  \n",
    "- Understand what GitHub and repositories are  \n",
    "- Use Markdown to create formatted cells in Jupyter Notebooks  \n",
    "- Describe development environments used in data science"
   ]
  },
  {
   "cell_type": "markdown",
   "id": "676fd3c2-3899-451c-aead-a88690e1136b",
   "metadata": {},
   "source": [
    "Some of the popular languages that Data Scientists use are:\n",
    "1. Python\n",
    "2. R\n",
    "3. SQL"
   ]
  },
  {
   "cell_type": "markdown",
   "id": "3a2ef1be-a53b-4d8c-b6d8-311418ef90d3",
   "metadata": {},
   "source": [
    "Some of the commonly used libraries used by Data Scientists include:\n",
    "1. Python Libraries\n",
    "2. R libraries "
   ]
  },
  {
   "cell_type": "markdown",
   "id": "412a8f28-f9a7-47bc-9957-069b67ca77fa",
   "metadata": {},
   "source": [
    "| Data Science Tools | \n",
    "|---------------------|\n",
    "| Jupyter Notebook |\n",
    "| RStudio |\n",
    "| Apache Zeppelin |"
   ]
  },
  {
   "cell_type": "markdown",
   "id": "f268c148-d411-4c3f-a65a-6469aa0a6984",
   "metadata": {},
   "source": [
    "### Below are a few examples of evaluating arithmetic expressions in Python\n"
   ]
  },
  {
   "cell_type": "code",
   "execution_count": 5,
   "id": "2794edc5-2333-4628-ac7e-ed35ab01f623",
   "metadata": {},
   "outputs": [
    {
     "data": {
      "text/plain": [
       "17"
      ]
     },
     "execution_count": 5,
     "metadata": {},
     "output_type": "execute_result"
    }
   ],
   "source": [
    "(3*4)+5"
   ]
  },
  {
   "cell_type": "markdown",
   "id": "0b8e8d31-363a-4889-bce8-045b0d21c1da",
   "metadata": {},
   "source": [
    "This will convert 200 minutes to hours by diving by 60"
   ]
  },
  {
   "cell_type": "code",
   "execution_count": 6,
   "id": "68601858-75a4-4ec9-a224-4aa0a196bf04",
   "metadata": {},
   "outputs": [
    {
     "data": {
      "text/plain": [
       "3.3333333333333335"
      ]
     },
     "execution_count": 6,
     "metadata": {},
     "output_type": "execute_result"
    }
   ],
   "source": [
    "200/60"
   ]
  },
  {
   "cell_type": "markdown",
   "id": "8b9e7cb8-fa24-4299-816c-b40ba3298a63",
   "metadata": {},
   "source": [
    "## Author"
   ]
  },
  {
   "cell_type": "markdown",
   "id": "3da29834-8c0e-47d2-a3c0-ea5e072f198b",
   "metadata": {},
   "source": [
    "Alba"
   ]
  },
  {
   "cell_type": "code",
   "execution_count": null,
   "id": "393e941e-6bd1-401f-a893-7c575d0797cd",
   "metadata": {},
   "outputs": [],
   "source": []
  }
 ],
 "metadata": {
  "kernelspec": {
   "display_name": "Python [conda env:base] *",
   "language": "python",
   "name": "conda-base-py"
  },
  "language_info": {
   "codemirror_mode": {
    "name": "ipython",
    "version": 3
   },
   "file_extension": ".py",
   "mimetype": "text/x-python",
   "name": "python",
   "nbconvert_exporter": "python",
   "pygments_lexer": "ipython3",
   "version": "3.12.7"
  }
 },
 "nbformat": 4,
 "nbformat_minor": 5
}
